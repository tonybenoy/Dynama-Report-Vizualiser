{
 "cells": [
  {
   "cell_type": "code",
   "execution_count": 12,
   "id": "74c82add-c3d0-4ab0-9beb-5ffd27a4f23c",
   "metadata": {
    "tags": []
   },
   "outputs": [],
   "source": [
    "from PyPDF2 import PdfReader"
   ]
  },
  {
   "cell_type": "code",
   "execution_count": 7,
   "id": "5f8f094a-5c09-4db2-a104-fbf5358dca54",
   "metadata": {
    "tags": []
   },
   "outputs": [],
   "source": [
    "market_folder=\"./market\"\n",
    "sales_folder=\"./sales\""
   ]
  },
  {
   "cell_type": "code",
   "execution_count": 8,
   "id": "8da74ab4-2308-447e-9091-af8c708d9407",
   "metadata": {
    "tags": []
   },
   "outputs": [],
   "source": [
    "file = f\"{market_folder}/1.pdf\"\n"
   ]
  },
  {
   "cell_type": "code",
   "execution_count": 13,
   "id": "e2c4a471-cc56-43ea-b701-ecbe45cb2e63",
   "metadata": {},
   "outputs": [],
   "source": [
    "reader = PdfReader(file)\n",
    "number_of_pages = len(reader.pages)\n",
    "page = reader.pages[0]\n",
    "text = page.extract_text()"
   ]
  },
  {
   "cell_type": "code",
   "execution_count": 16,
   "id": "7d8e7284-72fd-432c-9a3b-25684a4d9c7f",
   "metadata": {},
   "outputs": [
    {
     "name": "stderr",
     "output_type": "stream",
     "text": [
      "IOPub data rate exceeded.\n",
      "The Jupyter server will temporarily stop sending output\n",
      "to the client in order to avoid crashing it.\n",
      "To change this limit, set the config variable\n",
      "`--ServerApp.iopub_data_rate_limit`.\n",
      "\n",
      "Current values:\n",
      "ServerApp.iopub_data_rate_limit=1000000.0 (bytes/sec)\n",
      "ServerApp.rate_limit_window=3.0 (secs)\n",
      "\n"
     ]
    }
   ],
   "source": [
    "for line in text:\n",
    "    print(text)"
   ]
  }
 ],
 "metadata": {
  "kernelspec": {
   "display_name": "Python 3 (ipykernel)",
   "language": "python",
   "name": "python3"
  },
  "language_info": {
   "codemirror_mode": {
    "name": "ipython",
    "version": 3
   },
   "file_extension": ".py",
   "mimetype": "text/x-python",
   "name": "python",
   "nbconvert_exporter": "python",
   "pygments_lexer": "ipython3",
   "version": "3.10.10"
  }
 },
 "nbformat": 4,
 "nbformat_minor": 5
}
